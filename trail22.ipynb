{
 "cells": [
  {
   "cell_type": "code",
   "id": "initial_id",
   "metadata": {
    "collapsed": true,
    "ExecuteTime": {
     "end_time": "2024-11-01T13:59:23.622332Z",
     "start_time": "2024-11-01T13:59:17.489896Z"
    }
   },
   "source": [
    "import os\n",
    "import nest_asyncio\n",
    "nest_asyncio.apply()\n",
    "\n",
    "# Importing required libraries\n",
    "from llama_parse import LlamaParse\n",
    "from llama_index.core import Settings, VectorStoreIndex\n",
    "from llama_index.core.node_parser import MarkdownElementNodeParser\n",
    "from llama_index.llms.groq import Groq\n",
    "from llama_index.embeddings.openai import OpenAIEmbedding\n"
   ],
   "outputs": [],
   "execution_count": 1
  },
  {
   "metadata": {
    "ExecuteTime": {
     "end_time": "2024-11-01T14:00:21.191525Z",
     "start_time": "2024-11-01T14:00:21.160265Z"
    }
   },
   "cell_type": "code",
   "source": [
    "# llama-parse is async-first, running the async code in a notebook requires the use of nest_asyncio\n",
    "import nest_asyncio\n",
    "nest_asyncio.apply()\n",
    "\n",
    "\n",
    "import os\n",
    "# API access to llama-cloud\n",
    "os.environ[\"LLAMA_CLOUD_API_KEY\"] = \"llx-\"\n",
    "\n",
    "# Using OpenAI API for embeddings/llms\n",
    "os.environ[\"OPENAI_API_KEY\"]=\"sk-\"\n",
    "# Using Cohere for reranking\n",
    "#os.environ[\"COHERE_API_KEY\"] = \"xyz...\"\n",
    "\n",
    "os.environ[\"GROQ_API_KEY\"]=\"gsk_\"\n"
   ],
   "id": "153cf0992d7be0cb",
   "outputs": [],
   "execution_count": 5
  },
  {
   "metadata": {
    "ExecuteTime": {
     "end_time": "2024-11-01T14:00:22.968347Z",
     "start_time": "2024-11-01T14:00:22.952647Z"
    }
   },
   "cell_type": "code",
   "source": [
    "def setup_models():\n",
    "    \"\"\"Setup language and embedding models\"\"\"\n",
    "    llm = Groq(model=\"llama3-groq-8b-8192-tool-use-preview\")\n",
    "    embed_model = OpenAIEmbedding(model=\"text-embedding-3-small\")\n",
    "    Settings.llm = llm\n",
    "    Settings.embed_model = embed_model\n",
    "    \n",
    "    return llm, embed_model"
   ],
   "id": "db848c3c1d3a7d30",
   "outputs": [],
   "execution_count": 6
  },
  {
   "metadata": {
    "ExecuteTime": {
     "end_time": "2024-11-01T14:00:24.805381Z",
     "start_time": "2024-11-01T14:00:24.772309Z"
    }
   },
   "cell_type": "code",
   "source": [
    "# Parse PDF\n",
    "def parse_pdf(pdf_path):\n",
    "    \"\"\"Parse PDF and return documents\"\"\"\n",
    "    parsing_instructions = (\n",
    "        \"This is a pdf document with text, tables, and image data. \"\n",
    "        \"Extract detailed information carefully.\"\n",
    "    )\n",
    "    return LlamaParse(\n",
    "        result_type=\"markdown\", \n",
    "        parsing_instructions=parsing_instructions\n",
    "    ).load_data(pdf_path)"
   ],
   "id": "6737332d8900ccd3",
   "outputs": [],
   "execution_count": 7
  },
  {
   "metadata": {
    "ExecuteTime": {
     "end_time": "2024-11-01T14:00:52.954906Z",
     "start_time": "2024-11-01T14:00:26.831766Z"
    }
   },
   "cell_type": "code",
   "source": [
    "# Setup models and parse PDF\n",
    "llm, embed_model = setup_models()\n",
    "pdf_path = \"1-s2.0-S2773186324000884-main.pdf\"\n",
    "documents = parse_pdf(pdf_path)"
   ],
   "id": "4ca11a9ed5e697f1",
   "outputs": [
    {
     "name": "stdout",
     "output_type": "stream",
     "text": [
      "Started parsing the file under job_id 8484793f-9a1d-45a7-ace4-b6af3a2b3620\n"
     ]
    }
   ],
   "execution_count": 8
  },
  {
   "metadata": {
    "ExecuteTime": {
     "end_time": "2024-11-01T14:00:56.932414Z",
     "start_time": "2024-11-01T14:00:56.901167Z"
    }
   },
   "cell_type": "code",
   "source": [
    "def analyze_document_structure():\n",
    "    \"\"\"\n",
    "    Analyze and print document structure details\n",
    "    \"\"\"\n",
    "    print(\"📄 Document Analysis:\")\n",
    "    print(f\"Total Documents Parsed: {len(documents)}\")\n",
    "    \n",
    "    for i, doc in enumerate(documents, 1):\n",
    "        print(f\"\\nDocument {i}:\")\n",
    "        print(f\"  Total Length: {len(doc.text)} characters\")\n",
    "        print(f\"  Metadata Keys: {list(doc.metadata.keys())}\")\n",
    "        \n",
    "        # Preview first 500 characters\n",
    "        preview = doc.text[:500].replace('\\n', ' ')\n",
    "        print(f\"  Preview: {preview}...\")"
   ],
   "id": "a235ad632021efaf",
   "outputs": [],
   "execution_count": 9
  },
  {
   "metadata": {
    "ExecuteTime": {
     "end_time": "2024-11-01T14:00:59.109568Z",
     "start_time": "2024-11-01T14:00:59.093945Z"
    }
   },
   "cell_type": "code",
   "source": [
    "def extract_key_sections():\n",
    "    \"\"\"\n",
    "    Extract and categorize key sections from the document\n",
    "    \"\"\"\n",
    "    print(\"\\n🔍 Document Section Extraction:\")\n",
    "    sections = {}\n",
    "    \n",
    "    # Simple section identification (can be enhanced)\n",
    "    section_keywords = [\n",
    "        'introduction', 'background', 'method', 'methodology', \n",
    "        'results', 'discussion', 'conclusion', 'abstract'\n",
    "    ]\n",
    "    \n",
    "    for doc in documents:\n",
    "        text = doc.text.lower()\n",
    "        for keyword in section_keywords:\n",
    "            if keyword in text:\n",
    "                # Find section boundaries (basic approach)\n",
    "                start = text.find(keyword)\n",
    "                end = text.find('\\n\\n', start)\n",
    "                \n",
    "                if end == -1:\n",
    "                    end = len(text)\n",
    "                \n",
    "                section_text = doc.text[start:end]\n",
    "                sections[keyword] = section_text.strip()\n",
    "    \n",
    "    # Print identified sections\n",
    "    for section, content in sections.items():\n",
    "        print(f\"\\n{section.upper()} (first 300 chars):\")\n",
    "        print(content[:300] + \"...\")"
   ],
   "id": "1f44afc7cdb7724a",
   "outputs": [],
   "execution_count": 10
  },
  {
   "metadata": {
    "ExecuteTime": {
     "end_time": "2024-11-01T16:58:17.718339Z",
     "start_time": "2024-11-01T16:58:17.702724Z"
    }
   },
   "cell_type": "code",
   "source": [
    "def generate_document_summary():\n",
    "    \"\"\"\n",
    "    Generate a comprehensive summary using Groq\n",
    "    \"\"\"\n",
    "    print(\"\\n📝 Document Summary Generation:\")\n",
    "    \n",
    "    summary_prompt = (\n",
    "        \"Provide a comprehensive, academic-style summary of the document. \"\n",
    "        \"Include main objectives, key methodologies, significant findings, \"\n",
    "        \"and potential implications. Be concise but thorough.\"\n",
    "        \"how many tables are their and explain the tables\"\n",
    "        \"explain each table in detile with respect to the pdf file\"\n",
    "        \"explation of numerical data and its implications\"\n",
    "    )\n",
    "    \n",
    "    # Combine all text for summary generation\n",
    "    full_text = \" \".join([doc.text for doc in documents])\n",
    "    \n",
    "    # Truncate to manageable length if extremely long\n",
    "    max_length = 26000\n",
    "    full_text = full_text[:max_length]\n",
    "    \n",
    "    # Use Groq to generate summary\n",
    "    summary_response = llm.complete(\n",
    "        f\"Document Context:\\n{full_text}\\n\\n{summary_prompt}\"\n",
    "    )\n",
    "    \n",
    "    print(summary_response.text)"
   ],
   "id": "74594551dfae6bee",
   "outputs": [],
   "execution_count": 75
  },
  {
   "metadata": {
    "ExecuteTime": {
     "end_time": "2024-11-01T16:58:13.411701Z",
     "start_time": "2024-11-01T16:58:13.396167Z"
    }
   },
   "cell_type": "code",
   "source": [
    "def QnA():\n",
    "    \"\"\"\n",
    "    Generate a comprehensive summary using Groq\n",
    "    \"\"\"\n",
    "    print(\"\\n📝 Document Summary Generation:\")\n",
    "    summary_prompt=input(\"enter the question\")\n",
    "\n",
    "    \n",
    "    # Combine all text for summary generation\n",
    "    full_text = \" \".join([doc.text for doc in documents])\n",
    "    \n",
    "    # Truncate to manageable length if extremely long\n",
    "    max_length = 26000\n",
    "    full_text = full_text[:max_length]\n",
    "    \n",
    "    # Use Groq to generate summary\n",
    "    summary_response = llm.complete(\n",
    "        f\"Document Context:\\n{full_text}\\n\\n{summary_prompt}\"\n",
    "    )\n",
    "    \n",
    "    print(summary_response.text)"
   ],
   "id": "6e55044d9e727cca",
   "outputs": [],
   "execution_count": 74
  },
  {
   "metadata": {
    "ExecuteTime": {
     "end_time": "2024-11-01T16:55:46.667667Z",
     "start_time": "2024-11-01T16:55:46.652041Z"
    }
   },
   "cell_type": "code",
   "source": [
    "def keyword_extraction():\n",
    "    \"\"\"\n",
    "    Extract and rank important keywords\n",
    "    \"\"\"\n",
    "    print(\"\\n🏷️ Keyword Extraction:\")\n",
    "    \n",
    "    from collections import Counter\n",
    "    import re\n",
    "    \n",
    "    # Combine all text\n",
    "    full_text = \" \".join([doc.text for doc in documents])\n",
    "    \n",
    "    # Basic keyword extraction (can be improved)\n",
    "    # Remove common words and punctuation\n",
    "    words = re.findall(r'\\b\\w+\\b', full_text.lower())\n",
    "    stop_words = set(['the', 'a', 'an', 'and', 'or', 'but', 'in', 'on', 'at', 'to', 'for', 'of', 'with', 'by', 'this'])\n",
    "    \n",
    "    # Filter out stop words and short words\n",
    "    filtered_words = [\n",
    "        word for word in words \n",
    "        if word not in stop_words and len(word) > 3\n",
    "    ]\n",
    "    \n",
    "    # Count and display top keywords\n",
    "    keyword_counts = Counter(filtered_words)\n",
    "    top_keywords = keyword_counts.most_common(10)\n",
    "    \n",
    "    print(\"Top Keywords:\")\n",
    "    for keyword, count in top_keywords:\n",
    "        print(f\"  {keyword}: {count} occurrences\")"
   ],
   "id": "5ccd02b8cd22ca08",
   "outputs": [],
   "execution_count": 63
  },
  {
   "metadata": {
    "ExecuteTime": {
     "end_time": "2024-11-01T16:48:12.948937Z",
     "start_time": "2024-11-01T16:48:12.933316Z"
    }
   },
   "cell_type": "code",
   "source": "analyze_document_structure()",
   "id": "63eee022c408ff93",
   "outputs": [
    {
     "name": "stdout",
     "output_type": "stream",
     "text": [
      "📄 Document Analysis:\n",
      "Total Documents Parsed: 17\n",
      "\n",
      "Document 1:\n",
      "  Total Length: 4947 characters\n",
      "  Metadata Keys: []\n",
      "  Preview: # Chaos-based audio encryption: Efficacy of 2D and 3D hyperchaotic systems  Thejas Haridas, Upasana S.D., Vyshnavi G., Malavika S. Krishnan, Sishu Shankar Muni *  School of Digital Sciences, Digital University Kerala, Thiruvananthapuram, PIN 695317, Kerala, India  # A R T I C L E I N F O  # A B S T R A C T  Keywords: Secure communication in the digital age is necessary; securing audio data becomes very critical since this is normally transmitted across susceptible networks. Traditional approache...\n",
      "\n",
      "Document 2:\n",
      "  Total Length: 8209 characters\n",
      "  Metadata Keys: []\n",
      "  Preview: # T. Haridas et al.  # Franklin Open 8 (2024) 100158  The audio format should be digitized, that is, changing the analog audio signals to a digital format. This digital data can be treated and encrypted.  The chaotic signal formed in the earlier stage can be used as the lead for encrypting the audio data. Different encryption algorithms of chaos are chaos-based stream ciphers or chaos synchronization techniques.  The audio data form is joined with the chaotic signal using mathematical operations...\n",
      "\n",
      "Document 3:\n",
      "  Total Length: 7911 characters\n",
      "  Metadata Keys: []\n",
      "  Preview: # T. Haridas et al.  # Franklin Open 8 (2024) 100158  extended Schaffer function map (2D-ESFM) for the rapid and secure encryption of sensitive video regions for secure video encryption. This approach can be linked with audio encryption using chaos since authors of that approach employ chaotic systems to ensure secure multimedia data encryption. A new two-dimensional memristive cubic map (2D-MCM) for video encryption along with an improved capability of the pseudorandom sequence generation and c...\n",
      "\n",
      "Document 4:\n",
      "  Total Length: 3722 characters\n",
      "  Metadata Keys: []\n",
      "  Preview: # T. Haridas et al.  # Franklin Open 8 (2024) 100158  Fig. 1. (a) One-parameter bifurcation diagram illustrates how the system’s state changes as a function of the parameter 𝑘. (b) Corresponding Lyapunov exponent spectrum.  Fig. 2. (a) One-parameter bifurcation diagram illustrates how the system’s state changes as a function of the parameter 𝑏2. (b) Corresponding Lyapunov exponent spectrum. The parameters are 𝑎1 = −0.17, 𝑎2 = 0.25, 𝑎3 = 0.12, 𝑏1 = 4, 𝑐 = 2.15.  bifurcation diagram of the 3D quad...\n",
      "\n",
      "Document 5:\n",
      "  Total Length: 4757 characters\n",
      "  Metadata Keys: []\n",
      "  Preview: # T. Haridas et al.  # Franklin Open 8 (2024) 100158  # Paritioned Into  Audio Signal  8HA3-512  Scrambling  segments  EMD  IcF  Chaotic map  Residual  Encrypted segment  Encrypted Audio  Fig. 3. Visualizing Encryption: From plaintext to ciphertext, witness the transformation of data through cryptographic algorithms and encryption keys, ensuring secure transmission.  A modified equation calculates the first encryption settings from these hash components. 𝑘0 = (𝑐0 ⊕ 𝑐1) × 268 + (2.9 if 𝑖 in (4, 6...\n",
      "\n",
      "Document 6:\n",
      "  Total Length: 1085 characters\n",
      "  Metadata Keys: []\n",
      "  Preview: # T. Haridas et al.  # Franklin Open 8 (2024) 100158  |35000|16000| |---|---| |1 25000|1 10000| |20000|8000| |7 15000|[ 6000| |10000|4000| |5000|2000|  ~0.2 ~0.1 0.0 0.1 F1,00-0.75-0.50-0.25 0.00 0.25 0.50 0.75 1.00  AUDIO  |20000|25000| |---|---| |1 15000|1 15000| |J0000|7 10000| |5000|5000|  ~1.00 -0.75 -0.50 -0.25 0,00 0.25 0.50 0.75 ~L,0o -0.75-0.50-0.25 0.00 0.25 0,50 0.75 1.00  AUDIO 2  |7000|3500| |---|---| |6000|3000| |0 5000|I 2500| |4000|2000| |3000|7 1500| |2000|1000| |1000|500|  ~0.2...\n",
      "\n",
      "Document 7:\n",
      "  Total Length: 1352 characters\n",
      "  Metadata Keys: []\n",
      "  Preview: # T. Haridas et al.  # Franklin Open 8 (2024) 100158  | |7000|4000| | |---|---|---|---| | |6000|3500| | |5000|1300|2500| | | | |4000| | | | |3000| | | | |2000| | | |1000|500| |  ~0.2 -0.1 0.3 -1.00 -0.75 -0.50 -0.25 0.00 0.25 0.50 0.75 1.00  Amplitude audiol  |35000|35000| |---|---| |25000|20000| |15000|15000| |10000|10000| |5000|5000|  ~0.2 -0.1 -1.00 -0.75 -0.50 -0.25 0.00 0.25 0.50 0.75 1.00  Amplitude audio2  |20000|14000| |---|---| |15000|12000| |10000|8000| |6000|4000| |2000| |  -1.00 -0.7...\n",
      "\n",
      "Document 8:\n",
      "  Total Length: 3292 characters\n",
      "  Metadata Keys: []\n",
      "  Preview: # T. Haridas et al.  # Franklin Open 8 (2024) 100158  # Fig. 6. Comparison of amplitude versus number of samples plots for three different audio files before and after encryption.  The encrypted versions exhibit significant noise, indicating substantial alteration from the original signals.  # 12. Output: Encrypted audio file (encryptedaudio.wav).  # Decryption process  The encrypted audio file ‘‘encryptedaudio.wav’’, which contains a series of digital audio samples, must be read to access the c...\n",
      "\n",
      "Document 9:\n",
      "  Total Length: 4442 characters\n",
      "  Metadata Keys: []\n",
      "  Preview: # T. Haridas et al.  # Franklin Open 8 (2024) 100158  making audio uninterpretable. Still, as outlined in the third column, the decryption process is shown more in detail, and the original pure audio signal is revealed. This is important in order to allow the listeners to hear the content as intended by the producer with no hindrance or distortion.  # Table 2  # Correlation analysis.  |Audio|Correlation Original|Correlation Encrypted| |---|---|---| |2D map|0.9346|0.2562| |3D map|0.9351|−0.0635| ...\n",
      "\n",
      "Document 10:\n",
      "  Total Length: 2693 characters\n",
      "  Metadata Keys: []\n",
      "  Preview: # T. Haridas et al.  # Franklin Open 8 (2024) 100158  Fig. 7. Comparison of spectrograms before and after encryption using a 2D map, highlighting the similarity between the original and decrypted signals.  results as infinity, which clearly shows that there is no loss in signal quality while doing encryption.  |Table 3|Table 3| |---| |Comparison of UACI values for different audio files.| | |AUDIO FILE|UACI| |AUDIO 2D|34.5287| |AUDIO 3D|32.6787| |Ref. [52]|33.682| |Ref. [53]|33.00| |Ref. [54]|33....\n",
      "\n",
      "Document 11:\n",
      "  Total Length: 3356 characters\n",
      "  Metadata Keys: []\n",
      "  Preview: # T. Haridas et al.  # Franklin Open 8 (2024) 100158  # Fig. 8. Comparison of spectrograms before and after encryption using 3D hyperchaotic map, highlighting the similarity between the original and decrypted signals.  # Table 4  |AUDIO FILE|NSCR| |---|---| |Audio 2D|100.0000| |Audio 3D|99.9984| |Ref. [52]|99.6300| |Ref. [53]|98.0000|  shows the time–frequency representation of the audio signal before encryption, which transforms into noise in the encrypted spectrogram, illustrating the encrypti...\n",
      "\n",
      "Document 12:\n",
      "  Total Length: 1153 characters\n",
      "  Metadata Keys: []\n",
      "  Preview: # T. Haridas et al.  # Franklin Open 8 (2024) 100158  # 7. Results  The results indicate that the encryption method using both maps was extremely effective in achieving high entropy levels, indicating the utmost complexity and randomness of the encrypted audio signals. The encryption process effectively maintained secrecy by disrupting the original audio’s correlation. The outcome of the Unified Average Changing Intensity (UACI) and Number Sample Change Rate (NSCR) indicate that the encrypted au...\n",
      "\n",
      "Document 13:\n",
      "  Total Length: 2029 characters\n",
      "  Metadata Keys: []\n",
      "  Preview: # T. Haridas et al.  # Franklin Open 8 (2024) 100158  # 100  | | | | | |0.75|1|0.50|1|0.25|0.00|-0.25|~0.1|~0.50|~0?|-0.75|-1.00| |---|---|---|---|---|---|---|---|---|---|---|---|---|---|---|---|---| | | |~0.2|~0.1| |0.75|50|-0.25|0.00|0.25|0.50|0.75|100| | | | |  # Amplitude  |audiol|0.75|0.50|1|0.25|0.00|-0.25|~0e|~0.50|~0.75| | |---|---|---|---|---|---|---|---|---|---|---| |702|0.2|COI|0o-0.75|~0.50|-0.25|0.00|0.25|0.50|0.75|100|  # Amplitude  audio2 0.75 0.75 0.50 1 0.25 0.25 0.00 0.25 ~0.79...\n",
      "\n",
      "Document 14:\n",
      "  Total Length: 1475 characters\n",
      "  Metadata Keys: []\n",
      "  Preview: # T. Haridas et al.  # Franklin Open 8 (2024) 100158  # Power Spectral Density (PSD) Decrypted Audio Signal (2D)  |N|2|10-10|~Jy| | | |---|---|---|---|---|---| ||||| | | | | | | |2000|4000|6000|8000|10000|  # Power Spectral Density (PSD) of Decrypted Audio Signal (2D)  |NWH| | |2|0-5|10-10|AJy| |---|---|---|---|---|---|---| ||||| | | | | | | | |2000|4000|6000|8000|10000| |  # Power Spectral Density (PSD) of Decrypted Audio Signal (2D)  | |7 z-|Wu|2| | | |---|---|---|---|---|---| || | | | | | | |...\n",
      "\n",
      "Document 15:\n",
      "  Total Length: 1360 characters\n",
      "  Metadata Keys: []\n",
      "  Preview: # T. Haridas et al.  # Franklin Open 8 (2024) 100158  # Average Power Spectral Density (PSD) of Decrypted Audio Signal (3D)  |N|Wu|Yh| | | | |---|---|---|---|---|---| |2|10-8| | | | | | |2000|4000|6000|8000|10000|  # Average Power Spectral Density (PSD) of Decrypted Audio Signal (3D)  |10-6 pW|10-8|10-9| | | | |---|---|---|---|---|---| | |2000|4000|6000|8000|10000|  # Average Power Spectral Density (PSD) of Decrypted Audio Signal (3D)  |10-6| |2|10-7|10-8| | |---|---|---|---|---|---| | |2000|400...\n",
      "\n",
      "Document 16:\n",
      "  Total Length: 9093 characters\n",
      "  Metadata Keys: []\n",
      "  Preview: # T. Haridas et al.  # Franklin Open 8 (2024) 100158  # Declaration of competing interest  The authors declare that they have no known competing financial interests or personal relationships that could have appeared to influence the work reported in this paper.  # Data availability  The data that support the findings of this study are available within the article.  # Acknowledgments  We express our gratitude to Bharath V Nair and Vismaya V S for insightful discussions and for making figure corre...\n",
      "\n",
      "Document 17:\n",
      "  Total Length: 1907 characters\n",
      "  Metadata Keys: []\n",
      "  Preview: # T. Haridas et al.  # Franklin Open 8 (2024) 100158  # References  1. A. Ayenu-Prah, N. Attoh-Okine, A criterion for selecting relevant intrinsic mode functions in empirical mode decomposition, Adv. Adapt. Data Anal. 2 (01) (2010) 1–24. 2. S. Gao, H.H.-C. Iu, M. Wang, D. Jiang, A.A. Abd El-Latif, R. Wu, X. Tang, Design, hardware implementation, and application in video encryption of the 2D memristive cubic map, IEEE Internet Things J. (2024). 3. A. Maity, B.C. Dhara, An audio encryption scheme ...\n"
     ]
    }
   ],
   "execution_count": 54
  },
  {
   "metadata": {
    "ExecuteTime": {
     "end_time": "2024-11-01T16:50:03.304275Z",
     "start_time": "2024-11-01T16:50:03.290873Z"
    }
   },
   "cell_type": "code",
   "source": "extract_key_sections()",
   "id": "5da32f175ad849eb",
   "outputs": [
    {
     "name": "stdout",
     "output_type": "stream",
     "text": [
      "\n",
      "🔍 Document Section Extraction:\n",
      "\n",
      "INTRODUCTION (first 300 chars):\n",
      "introduction to a cryptosystem based on chaos for high-resolution digital photos, utilizing an arbitrary precision arithmetic digital chaos generator, running on the Snapdragon Pi 3 SoC [20]. The mod 1023 function [21] is utilized to enhance four chaotic maps for encrypting RGB images in a machine s...\n",
      "\n",
      "METHOD (first 300 chars):\n",
      "method based on Chebyshev map, Orclever Proc. Res. Dev. 2 (1) (2023) 28–38....\n",
      "\n",
      "METHODOLOGY (first 300 chars):\n",
      "Methodology, Formal analysis, Data curation, Conceptualization....\n",
      "\n",
      "RESULTS (first 300 chars):\n",
      "results affirm the suitability of chaotic maps for encryption purposes as they offer high levels of secrecy and security....\n",
      "\n",
      "CONCLUSION (first 300 chars):\n",
      "Conclusion...\n",
      "\n",
      "ABSTRACT (first 300 chars):\n",
      "abstract, even extremely small variations of the key result in very different outcomes in the end, hence increasing the security. The intrinsic complexity of the chaotic systems also gives an added layer of security, since their very unpredictable and random behavior makes any unauthorized decryptio...\n",
      "\n",
      "BACKGROUND (first 300 chars):\n",
      "background noise. The more the number that SNR is, the better the operation of your encryption. The above figures depict the SNR value obtained during testing, where both of the encryption algorithms show the....\n",
      "\n",
      "DISCUSSION (first 300 chars):\n",
      "discussions and for making figure corrections....\n"
     ]
    }
   ],
   "execution_count": 55
  },
  {
   "metadata": {
    "ExecuteTime": {
     "end_time": "2024-11-01T16:58:27.979135Z",
     "start_time": "2024-11-01T16:58:26.501664Z"
    }
   },
   "cell_type": "code",
   "source": "generate_document_summary()",
   "id": "f166e06b31090fd",
   "outputs": [
    {
     "name": "stdout",
     "output_type": "stream",
     "text": [
      "\n",
      "📝 Document Summary Generation:\n",
      "The document discusses the efficacy of using 2D and 3D hyperchaotic systems for audio encryption. The main objectives are to explore the use of chaotic systems in securing audio data and to evaluate the effectiveness of two distinct encryption schemes based on these systems. The methodologies involve the use of chaotic maps to encrypt audio data, including the 2D quadratic memristor map and the 3D hyperchaotic map. The significant findings include the ability of these systems to provide strong security for audio data while maintaining acceptable audio quality. The potential implications are far-reaching, offering a secure and efficient solution for audio communications in various fields, including telecommunications, military communications, and confidential conferencing systems.\n"
     ]
    }
   ],
   "execution_count": 76
  },
  {
   "metadata": {
    "ExecuteTime": {
     "end_time": "2024-11-01T16:53:09.029214Z",
     "start_time": "2024-11-01T16:53:08.997796Z"
    }
   },
   "cell_type": "code",
   "source": "keyword_extraction()",
   "id": "aaf05c0a976d5297",
   "outputs": [
    {
     "name": "stdout",
     "output_type": "stream",
     "text": [
      "\n",
      "🏷️ Keyword Extraction:\n",
      "Top Keywords:\n",
      "  audio: 184 occurrences\n",
      "  encryption: 176 occurrences\n",
      "  chaotic: 89 occurrences\n",
      "  signal: 74 occurrences\n",
      "  that: 71 occurrences\n",
      "  encrypted: 65 occurrences\n",
      "  data: 62 occurrences\n",
      "  hyperchaotic: 52 occurrences\n",
      "  original: 48 occurrences\n",
      "  using: 44 occurrences\n"
     ]
    }
   ],
   "execution_count": 61
  },
  {
   "metadata": {
    "ExecuteTime": {
     "end_time": "2024-11-01T17:01:07.013079Z",
     "start_time": "2024-11-01T17:00:55.631487Z"
    }
   },
   "cell_type": "code",
   "source": "QnA()",
   "id": "a634c68110e5175f",
   "outputs": [
    {
     "name": "stdout",
     "output_type": "stream",
     "text": [
      "\n",
      "📝 Document Summary Generation:\n",
      "The provided process explains how to encrypt an audio file using signal processing and cryptography techniques. This encryption method is outlined below in a logical sequence which is represented in the flowchart 3. First, the original audio file (org_aud) is used to start the encryption process. To separate the raw audio data for additional processing, the audio file’s header — which usually includes metadata like file format and properties — is removed. By eliminating additional potentially identifying information, this step ensures the encryption is restricted to the audio material. After that, the SHA3-512 algorithm [43] is used to hash the isolated audio data, the data of audio is given in the Table 1. A fixed-size, 512-bit hash value that precisely represents the audio file’s contents generated by this cryptographic hash function. The hashing process secures the uniqueness and integrity of the audio by assuring that even slight alterations in the audio will result in a significantly distinctive hash value [44]. Then, the hash value is split into eight equal parts, which will be utilized for producing the encryption keys and parameters in the following steps.\n"
     ]
    }
   ],
   "execution_count": 83
  },
  {
   "metadata": {
    "ExecuteTime": {
     "end_time": "2024-11-01T16:36:50.697398Z",
     "start_time": "2024-11-01T16:36:50.681626Z"
    }
   },
   "cell_type": "code",
   "source": [
    "def main():\n",
    "    analyze_document_structure()\n",
    "    extract_key_sections()\n",
    "    generate_document_summary()\n",
    "    keyword_extraction()\n",
    "    QnA()"
   ],
   "id": "c9b08e6ca35b4112",
   "outputs": [],
   "execution_count": 50
  },
  {
   "metadata": {
    "ExecuteTime": {
     "end_time": "2024-11-01T16:45:00.309253Z",
     "start_time": "2024-11-01T16:44:50.467159Z"
    }
   },
   "cell_type": "code",
   "source": "main()",
   "id": "b19a42f79236d6b2",
   "outputs": [
    {
     "name": "stdout",
     "output_type": "stream",
     "text": [
      "📄 Document Analysis:\n",
      "Total Documents Parsed: 17\n",
      "\n",
      "Document 1:\n",
      "  Total Length: 4947 characters\n",
      "  Metadata Keys: []\n",
      "  Preview: # Chaos-based audio encryption: Efficacy of 2D and 3D hyperchaotic systems  Thejas Haridas, Upasana S.D., Vyshnavi G., Malavika S. Krishnan, Sishu Shankar Muni *  School of Digital Sciences, Digital University Kerala, Thiruvananthapuram, PIN 695317, Kerala, India  # A R T I C L E I N F O  # A B S T R A C T  Keywords: Secure communication in the digital age is necessary; securing audio data becomes very critical since this is normally transmitted across susceptible networks. Traditional approache...\n",
      "\n",
      "Document 2:\n",
      "  Total Length: 8209 characters\n",
      "  Metadata Keys: []\n",
      "  Preview: # T. Haridas et al.  # Franklin Open 8 (2024) 100158  The audio format should be digitized, that is, changing the analog audio signals to a digital format. This digital data can be treated and encrypted.  The chaotic signal formed in the earlier stage can be used as the lead for encrypting the audio data. Different encryption algorithms of chaos are chaos-based stream ciphers or chaos synchronization techniques.  The audio data form is joined with the chaotic signal using mathematical operations...\n",
      "\n",
      "Document 3:\n",
      "  Total Length: 7911 characters\n",
      "  Metadata Keys: []\n",
      "  Preview: # T. Haridas et al.  # Franklin Open 8 (2024) 100158  extended Schaffer function map (2D-ESFM) for the rapid and secure encryption of sensitive video regions for secure video encryption. This approach can be linked with audio encryption using chaos since authors of that approach employ chaotic systems to ensure secure multimedia data encryption. A new two-dimensional memristive cubic map (2D-MCM) for video encryption along with an improved capability of the pseudorandom sequence generation and c...\n",
      "\n",
      "Document 4:\n",
      "  Total Length: 3722 characters\n",
      "  Metadata Keys: []\n",
      "  Preview: # T. Haridas et al.  # Franklin Open 8 (2024) 100158  Fig. 1. (a) One-parameter bifurcation diagram illustrates how the system’s state changes as a function of the parameter 𝑘. (b) Corresponding Lyapunov exponent spectrum.  Fig. 2. (a) One-parameter bifurcation diagram illustrates how the system’s state changes as a function of the parameter 𝑏2. (b) Corresponding Lyapunov exponent spectrum. The parameters are 𝑎1 = −0.17, 𝑎2 = 0.25, 𝑎3 = 0.12, 𝑏1 = 4, 𝑐 = 2.15.  bifurcation diagram of the 3D quad...\n",
      "\n",
      "Document 5:\n",
      "  Total Length: 4757 characters\n",
      "  Metadata Keys: []\n",
      "  Preview: # T. Haridas et al.  # Franklin Open 8 (2024) 100158  # Paritioned Into  Audio Signal  8HA3-512  Scrambling  segments  EMD  IcF  Chaotic map  Residual  Encrypted segment  Encrypted Audio  Fig. 3. Visualizing Encryption: From plaintext to ciphertext, witness the transformation of data through cryptographic algorithms and encryption keys, ensuring secure transmission.  A modified equation calculates the first encryption settings from these hash components. 𝑘0 = (𝑐0 ⊕ 𝑐1) × 268 + (2.9 if 𝑖 in (4, 6...\n",
      "\n",
      "Document 6:\n",
      "  Total Length: 1085 characters\n",
      "  Metadata Keys: []\n",
      "  Preview: # T. Haridas et al.  # Franklin Open 8 (2024) 100158  |35000|16000| |---|---| |1 25000|1 10000| |20000|8000| |7 15000|[ 6000| |10000|4000| |5000|2000|  ~0.2 ~0.1 0.0 0.1 F1,00-0.75-0.50-0.25 0.00 0.25 0.50 0.75 1.00  AUDIO  |20000|25000| |---|---| |1 15000|1 15000| |J0000|7 10000| |5000|5000|  ~1.00 -0.75 -0.50 -0.25 0,00 0.25 0.50 0.75 ~L,0o -0.75-0.50-0.25 0.00 0.25 0,50 0.75 1.00  AUDIO 2  |7000|3500| |---|---| |6000|3000| |0 5000|I 2500| |4000|2000| |3000|7 1500| |2000|1000| |1000|500|  ~0.2...\n",
      "\n",
      "Document 7:\n",
      "  Total Length: 1352 characters\n",
      "  Metadata Keys: []\n",
      "  Preview: # T. Haridas et al.  # Franklin Open 8 (2024) 100158  | |7000|4000| | |---|---|---|---| | |6000|3500| | |5000|1300|2500| | | | |4000| | | | |3000| | | | |2000| | | |1000|500| |  ~0.2 -0.1 0.3 -1.00 -0.75 -0.50 -0.25 0.00 0.25 0.50 0.75 1.00  Amplitude audiol  |35000|35000| |---|---| |25000|20000| |15000|15000| |10000|10000| |5000|5000|  ~0.2 -0.1 -1.00 -0.75 -0.50 -0.25 0.00 0.25 0.50 0.75 1.00  Amplitude audio2  |20000|14000| |---|---| |15000|12000| |10000|8000| |6000|4000| |2000| |  -1.00 -0.7...\n",
      "\n",
      "Document 8:\n",
      "  Total Length: 3292 characters\n",
      "  Metadata Keys: []\n",
      "  Preview: # T. Haridas et al.  # Franklin Open 8 (2024) 100158  # Fig. 6. Comparison of amplitude versus number of samples plots for three different audio files before and after encryption.  The encrypted versions exhibit significant noise, indicating substantial alteration from the original signals.  # 12. Output: Encrypted audio file (encryptedaudio.wav).  # Decryption process  The encrypted audio file ‘‘encryptedaudio.wav’’, which contains a series of digital audio samples, must be read to access the c...\n",
      "\n",
      "Document 9:\n",
      "  Total Length: 4442 characters\n",
      "  Metadata Keys: []\n",
      "  Preview: # T. Haridas et al.  # Franklin Open 8 (2024) 100158  making audio uninterpretable. Still, as outlined in the third column, the decryption process is shown more in detail, and the original pure audio signal is revealed. This is important in order to allow the listeners to hear the content as intended by the producer with no hindrance or distortion.  # Table 2  # Correlation analysis.  |Audio|Correlation Original|Correlation Encrypted| |---|---|---| |2D map|0.9346|0.2562| |3D map|0.9351|−0.0635| ...\n",
      "\n",
      "Document 10:\n",
      "  Total Length: 2693 characters\n",
      "  Metadata Keys: []\n",
      "  Preview: # T. Haridas et al.  # Franklin Open 8 (2024) 100158  Fig. 7. Comparison of spectrograms before and after encryption using a 2D map, highlighting the similarity between the original and decrypted signals.  results as infinity, which clearly shows that there is no loss in signal quality while doing encryption.  |Table 3|Table 3| |---| |Comparison of UACI values for different audio files.| | |AUDIO FILE|UACI| |AUDIO 2D|34.5287| |AUDIO 3D|32.6787| |Ref. [52]|33.682| |Ref. [53]|33.00| |Ref. [54]|33....\n",
      "\n",
      "Document 11:\n",
      "  Total Length: 3356 characters\n",
      "  Metadata Keys: []\n",
      "  Preview: # T. Haridas et al.  # Franklin Open 8 (2024) 100158  # Fig. 8. Comparison of spectrograms before and after encryption using 3D hyperchaotic map, highlighting the similarity between the original and decrypted signals.  # Table 4  |AUDIO FILE|NSCR| |---|---| |Audio 2D|100.0000| |Audio 3D|99.9984| |Ref. [52]|99.6300| |Ref. [53]|98.0000|  shows the time–frequency representation of the audio signal before encryption, which transforms into noise in the encrypted spectrogram, illustrating the encrypti...\n",
      "\n",
      "Document 12:\n",
      "  Total Length: 1153 characters\n",
      "  Metadata Keys: []\n",
      "  Preview: # T. Haridas et al.  # Franklin Open 8 (2024) 100158  # 7. Results  The results indicate that the encryption method using both maps was extremely effective in achieving high entropy levels, indicating the utmost complexity and randomness of the encrypted audio signals. The encryption process effectively maintained secrecy by disrupting the original audio’s correlation. The outcome of the Unified Average Changing Intensity (UACI) and Number Sample Change Rate (NSCR) indicate that the encrypted au...\n",
      "\n",
      "Document 13:\n",
      "  Total Length: 2029 characters\n",
      "  Metadata Keys: []\n",
      "  Preview: # T. Haridas et al.  # Franklin Open 8 (2024) 100158  # 100  | | | | | |0.75|1|0.50|1|0.25|0.00|-0.25|~0.1|~0.50|~0?|-0.75|-1.00| |---|---|---|---|---|---|---|---|---|---|---|---|---|---|---|---|---| | | |~0.2|~0.1| |0.75|50|-0.25|0.00|0.25|0.50|0.75|100| | | | |  # Amplitude  |audiol|0.75|0.50|1|0.25|0.00|-0.25|~0e|~0.50|~0.75| | |---|---|---|---|---|---|---|---|---|---|---| |702|0.2|COI|0o-0.75|~0.50|-0.25|0.00|0.25|0.50|0.75|100|  # Amplitude  audio2 0.75 0.75 0.50 1 0.25 0.25 0.00 0.25 ~0.79...\n",
      "\n",
      "Document 14:\n",
      "  Total Length: 1475 characters\n",
      "  Metadata Keys: []\n",
      "  Preview: # T. Haridas et al.  # Franklin Open 8 (2024) 100158  # Power Spectral Density (PSD) Decrypted Audio Signal (2D)  |N|2|10-10|~Jy| | | |---|---|---|---|---|---| ||||| | | | | | | |2000|4000|6000|8000|10000|  # Power Spectral Density (PSD) of Decrypted Audio Signal (2D)  |NWH| | |2|0-5|10-10|AJy| |---|---|---|---|---|---|---| ||||| | | | | | | | |2000|4000|6000|8000|10000| |  # Power Spectral Density (PSD) of Decrypted Audio Signal (2D)  | |7 z-|Wu|2| | | |---|---|---|---|---|---| || | | | | | | |...\n",
      "\n",
      "Document 15:\n",
      "  Total Length: 1360 characters\n",
      "  Metadata Keys: []\n",
      "  Preview: # T. Haridas et al.  # Franklin Open 8 (2024) 100158  # Average Power Spectral Density (PSD) of Decrypted Audio Signal (3D)  |N|Wu|Yh| | | | |---|---|---|---|---|---| |2|10-8| | | | | | |2000|4000|6000|8000|10000|  # Average Power Spectral Density (PSD) of Decrypted Audio Signal (3D)  |10-6 pW|10-8|10-9| | | | |---|---|---|---|---|---| | |2000|4000|6000|8000|10000|  # Average Power Spectral Density (PSD) of Decrypted Audio Signal (3D)  |10-6| |2|10-7|10-8| | |---|---|---|---|---|---| | |2000|400...\n",
      "\n",
      "Document 16:\n",
      "  Total Length: 9093 characters\n",
      "  Metadata Keys: []\n",
      "  Preview: # T. Haridas et al.  # Franklin Open 8 (2024) 100158  # Declaration of competing interest  The authors declare that they have no known competing financial interests or personal relationships that could have appeared to influence the work reported in this paper.  # Data availability  The data that support the findings of this study are available within the article.  # Acknowledgments  We express our gratitude to Bharath V Nair and Vismaya V S for insightful discussions and for making figure corre...\n",
      "\n",
      "Document 17:\n",
      "  Total Length: 1907 characters\n",
      "  Metadata Keys: []\n",
      "  Preview: # T. Haridas et al.  # Franklin Open 8 (2024) 100158  # References  1. A. Ayenu-Prah, N. Attoh-Okine, A criterion for selecting relevant intrinsic mode functions in empirical mode decomposition, Adv. Adapt. Data Anal. 2 (01) (2010) 1–24. 2. S. Gao, H.H.-C. Iu, M. Wang, D. Jiang, A.A. Abd El-Latif, R. Wu, X. Tang, Design, hardware implementation, and application in video encryption of the 2D memristive cubic map, IEEE Internet Things J. (2024). 3. A. Maity, B.C. Dhara, An audio encryption scheme ...\n",
      "\n",
      "🔍 Document Section Extraction:\n",
      "\n",
      "INTRODUCTION (first 300 chars):\n",
      "introduction to a cryptosystem based on chaos for high-resolution digital photos, utilizing an arbitrary precision arithmetic digital chaos generator, running on the Snapdragon Pi 3 SoC [20]. The mod 1023 function [21] is utilized to enhance four chaotic maps for encrypting RGB images in a machine s...\n",
      "\n",
      "METHOD (first 300 chars):\n",
      "method based on Chebyshev map, Orclever Proc. Res. Dev. 2 (1) (2023) 28–38....\n",
      "\n",
      "METHODOLOGY (first 300 chars):\n",
      "Methodology, Formal analysis, Data curation, Conceptualization....\n",
      "\n",
      "RESULTS (first 300 chars):\n",
      "results affirm the suitability of chaotic maps for encryption purposes as they offer high levels of secrecy and security....\n",
      "\n",
      "CONCLUSION (first 300 chars):\n",
      "Conclusion...\n",
      "\n",
      "ABSTRACT (first 300 chars):\n",
      "abstract, even extremely small variations of the key result in very different outcomes in the end, hence increasing the security. The intrinsic complexity of the chaotic systems also gives an added layer of security, since their very unpredictable and random behavior makes any unauthorized decryptio...\n",
      "\n",
      "BACKGROUND (first 300 chars):\n",
      "background noise. The more the number that SNR is, the better the operation of your encryption. The above figures depict the SNR value obtained during testing, where both of the encryption algorithms show the....\n",
      "\n",
      "DISCUSSION (first 300 chars):\n",
      "discussions and for making figure corrections....\n",
      "\n",
      "📝 Document Summary Generation:\n",
      "The provided document discusses the efficacy of using 2D and 3D hyperchaotic systems for audio encryption. It highlights the benefits of chaotic systems in generating secure keys and encrypting audio data. The encryption process involves digitizing the audio signal and then encrypting each sample using chaotic sequences from multiple systems. The paper evaluates two distinct encryption schemes based on 2D memristive hyperchaotic maps and 3D hyperchaotic systems, demonstrating their effectiveness in securing audio data while maintaining acceptable audio quality.\n",
      "\n",
      "🏷️ Keyword Extraction:\n",
      "Top Keywords:\n",
      "  audio: 184 occurrences\n",
      "  encryption: 176 occurrences\n",
      "  chaotic: 89 occurrences\n",
      "  signal: 74 occurrences\n",
      "  that: 71 occurrences\n",
      "  encrypted: 65 occurrences\n",
      "  data: 62 occurrences\n",
      "  hyperchaotic: 52 occurrences\n",
      "  original: 48 occurrences\n",
      "  using: 44 occurrences\n"
     ]
    }
   ],
   "execution_count": 53
  },
  {
   "metadata": {},
   "cell_type": "code",
   "outputs": [],
   "execution_count": null,
   "source": "",
   "id": "9ac2e5611043a2c4"
  }
 ],
 "metadata": {
  "kernelspec": {
   "display_name": "Python 3",
   "language": "python",
   "name": "python3"
  },
  "language_info": {
   "codemirror_mode": {
    "name": "ipython",
    "version": 2
   },
   "file_extension": ".py",
   "mimetype": "text/x-python",
   "name": "python",
   "nbconvert_exporter": "python",
   "pygments_lexer": "ipython2",
   "version": "2.7.6"
  }
 },
 "nbformat": 4,
 "nbformat_minor": 5
}
